{
 "metadata": {
  "name": "Programming Collective Intelligence - Chapter 12 - Bayesian and Decision Tree Classifiers"
 },
 "nbformat": 3,
 "nbformat_minor": 0,
 "worksheets": [
  {
   "cells": [
    {
     "cell_type": "code",
     "collapsed": false,
     "input": [
      "%cd '/home/vagrant/AeroFS/work/educate_me/books/collective_intelligence'\n",
      "import os"
     ],
     "language": "python",
     "metadata": {},
     "outputs": [
      {
       "output_type": "stream",
       "stream": "stdout",
       "text": [
        "/home/vagrant/AeroFS/work/educate_me/books/collective_intelligence\n"
       ]
      }
     ],
     "prompt_number": 1
    },
    {
     "cell_type": "markdown",
     "metadata": {},
     "source": [
      "# Bayesian Classifier #\n",
      "\n",
      "Implentation: [docclass.py](https://github.com/adamw523/collective_intelligence/blob/master/ch6/docclass.py)\n",
      "\n",
      "Bayesian classifieriers use Bayes theorem to guess the category of a document or any other data that can be represented as a document with features.\n",
      "\n",
      "The Bayes theorem says:\n",
      "\n",
      "`Pr(Category | Document) = Pr(Document | Category) * Pr(Category) / Pr(Document)`\n",
      "\n",
      "Where:\n",
      "\n",
      "`Pr(Document | Category) = Pr(Word1 | Category) * Pr(Word2 | Category) ...`\n"
     ]
    },
    {
     "cell_type": "code",
     "collapsed": false,
     "input": [
      "# Import code from relavent chapters\n",
      "if 'ch6' not in sys.path: sys.path.append('ch6')\n",
      "import docclass"
     ],
     "language": "python",
     "metadata": {},
     "outputs": [],
     "prompt_number": 2
    },
    {
     "cell_type": "markdown",
     "metadata": {},
     "source": [
      "## Training ##\n",
      "\n",
      "The probabilities of `(Word1 | Category)`, `(Word2 | Category)`, ... are built by training the classifyer with by providing example features and a category"
     ]
    },
    {
     "cell_type": "code",
     "collapsed": false,
     "input": [
      "clnb = docclass.naivebayes(docclass.getwords)\n",
      "clnb.setdb('clnb.db')\n",
      "clnb.train('pythons are constrictors', 'snake')\n",
      "clnb.train('python has dynamic types', 'language')\n",
      "clnb.train('python was developed as a scripting language', 'language')"
     ],
     "language": "python",
     "metadata": {},
     "outputs": [],
     "prompt_number": 3
    },
    {
     "cell_type": "markdown",
     "metadata": {},
     "source": [
      "After training we get these probabilities of words for a given category:"
     ]
    },
    {
     "cell_type": "code",
     "collapsed": false,
     "input": [
      "clnb.printtable()"
     ],
     "language": "python",
     "metadata": {},
     "outputs": [
      {
       "output_type": "stream",
       "stream": "stdout",
       "text": [
        "              snake      language  \n",
        "are            1.0        0.0       \n",
        "constrictors   1.0        0.0       \n",
        "developed      0.0        0.5       \n",
        "dynamic        0.0        0.5       \n",
        "has            0.0        0.5       \n",
        "language       0.0        0.5       \n",
        "python         0.0        1.0       \n",
        "pythons        1.0        0.0       \n",
        "scripting      0.0        0.5       \n",
        "types          0.0        0.5       \n",
        "was            0.0        0.5       \n"
       ]
      }
     ],
     "prompt_number": 4
    },
    {
     "cell_type": "markdown",
     "metadata": {},
     "source": [
      "## Classification ##\n",
      "\n",
      "We can then use the classifier to guess for us what category our document will fall into. "
     ]
    },
    {
     "cell_type": "code",
     "collapsed": false,
     "input": [
      "doc = 'dynamic programming'\n",
      "print clnb.prob(doc, 'language')\n",
      "print clnb.prob(doc, 'snake')\n",
      "print clnb.classify(doc, default='unknown')"
     ],
     "language": "python",
     "metadata": {},
     "outputs": [
      {
       "output_type": "stream",
       "stream": "stdout",
       "text": [
        "0.166666666667\n",
        "0.0119047619048\n",
        "language\n"
       ]
      }
     ],
     "prompt_number": 5
    },
    {
     "cell_type": "code",
     "collapsed": false,
     "input": [
      "doc = 'boa constrictors'\n",
      "print clnb.prob(doc, 'language')\n",
      "print clnb.prob(doc, 'snake')\n",
      "print clnb.classify(doc, default='unkown')"
     ],
     "language": "python",
     "metadata": {},
     "outputs": [
      {
       "output_type": "stream",
       "stream": "stdout",
       "text": [
        "0.0238095238095\n",
        "0.154761904762\n",
        "snake\n"
       ]
      }
     ],
     "prompt_number": 6
    },
    {
     "cell_type": "markdown",
     "metadata": {},
     "source": [
      "A threshold can be specified to give some categories more weight than others. For instance marking messages as SPAM with a low probability of it actually being SPAM so not as much HAM gets classified incorrectly.\n",
      "\n",
      "If a threshold is set, the top matching category will be returned only if its probability is `threshold` times higher than the next categories probability."
     ]
    },
    {
     "cell_type": "code",
     "collapsed": false,
     "input": [
      "clnb.setthreshold('snake', 2)\n",
      "print clnb.getthreashold('snake')\n",
      "doc = 'boa constrictors'\n",
      "print clnb.prob(doc, 'language')\n",
      "print clnb.prob(doc, 'snake')\n",
      "print clnb.classify(doc, default='unkown')"
     ],
     "language": "python",
     "metadata": {},
     "outputs": [
      {
       "output_type": "stream",
       "stream": "stdout",
       "text": [
        "2\n",
        "0.0238095238095\n",
        "0.154761904762\n",
        "unkown\n"
       ]
      }
     ],
     "prompt_number": 7
    },
    {
     "cell_type": "markdown",
     "metadata": {},
     "source": [
      "## Fisher Method ##\n",
      "\n",
      "The Fisher Method is an alternative classifier. It calculates the probability of each category for a given document. You can specify the minimum probability for a category for a document to be classified as that category."
     ]
    },
    {
     "cell_type": "code",
     "collapsed": false,
     "input": [
      "cl = docclass.fisherclassifier(docclass.getwords)\n",
      "cl.setdb('fisher.db')\n",
      "docclass.sampletrain(cl)\n",
      "\n",
      "cl.classify('quick rabbit', default='unknown')"
     ],
     "language": "python",
     "metadata": {},
     "outputs": [
      {
       "output_type": "pyout",
       "prompt_number": 8,
       "text": [
        "u'good'"
       ]
      }
     ],
     "prompt_number": 8
    },
    {
     "cell_type": "code",
     "collapsed": false,
     "input": [
      "cl.classify('quick money', default='unknown')"
     ],
     "language": "python",
     "metadata": {},
     "outputs": [
      {
       "output_type": "pyout",
       "prompt_number": 9,
       "text": [
        "u'bad'"
       ]
      }
     ],
     "prompt_number": 9
    },
    {
     "cell_type": "code",
     "collapsed": false,
     "input": [
      "# set a higher threashold for 'bad'\n",
      "cl.setminimum('bad', 0.9)\n",
      "cl.classify('quick money')"
     ],
     "language": "python",
     "metadata": {},
     "outputs": [
      {
       "output_type": "pyout",
       "prompt_number": 10,
       "text": [
        "u'good'"
       ]
      }
     ],
     "prompt_number": 10
    },
    {
     "cell_type": "markdown",
     "metadata": {},
     "source": [
      "#Decision Tree Classifier#\n",
      "\n",
      "Implementation: [treepredict.py](https://github.com/adamw523/collective_intelligence/blob/master/ch7/treepredict.py)\n",
      "\n",
      "Decision Tree Classifiers can be used as predictive modles that map observations about an item to conclusions about the item. Leaves represent class labels and branches represent an observation outcome."
     ]
    },
    {
     "cell_type": "code",
     "collapsed": false,
     "input": [
      "if 'ch7' not in sys.path: sys.path.append('ch7')"
     ],
     "language": "python",
     "metadata": {},
     "outputs": [],
     "prompt_number": 11
    },
    {
     "cell_type": "markdown",
     "metadata": {},
     "source": [
      "## Training ##\n",
      "\n",
      "We start with a dataset containing two classes of fruit and some observations about them (diamater of fruit, and colour)."
     ]
    },
    {
     "cell_type": "code",
     "collapsed": false,
     "input": [
      "fruit = [[4, 'red', 'apple'],\n",
      "         [4, 'green', 'apple'],\n",
      "         [1, 'red', 'cherry'],\n",
      "         [1, 'green', 'grape'],\n",
      "         [5, 'red', 'apple']]"
     ],
     "language": "python",
     "metadata": {},
     "outputs": [],
     "prompt_number": 12
    },
    {
     "cell_type": "markdown",
     "metadata": {},
     "source": [
      "Then we train the decision tree classifier. The `printtree` function shows us what the treee currently looks like."
     ]
    },
    {
     "cell_type": "code",
     "collapsed": false,
     "input": [
      "import treepredict\n",
      "tree = treepredict.buildtree(fruit)\n",
      "treepredict.printtree(tree)"
     ],
     "language": "python",
     "metadata": {},
     "outputs": [
      {
       "output_type": "stream",
       "stream": "stdout",
       "text": [
        "0:4? \n",
        "T-> {'apple': 3}\n",
        "F-> 1:green? \n",
        "  T-> {'grape': 1}\n",
        "  F-> {'cherry': 1}\n"
       ]
      }
     ],
     "prompt_number": 13
    },
    {
     "cell_type": "markdown",
     "metadata": {},
     "source": [
      "The algoritim builds the tree from the top. It decides which attribute at each step splits up your data the best.\n",
      "\n",
      "_Entropy_ (the amount of disorder in a set) is used to decide how the data should be split up at each level of the tree. In our case, `diamater` is the top attribute that provides the most _information gain_, then colour.\n",
      "\n",
      "## Classification ##\n",
      "\n",
      "Now we can use the classifier to guess the class of a fruit based on some observations we provide it."
     ]
    },
    {
     "cell_type": "code",
     "collapsed": false,
     "input": [
      "treepredict.classify([2, 'red'], tree)"
     ],
     "language": "python",
     "metadata": {},
     "outputs": [
      {
       "output_type": "pyout",
       "prompt_number": 14,
       "text": [
        "{'cherry': 1}"
       ]
      }
     ],
     "prompt_number": 14
    },
    {
     "cell_type": "code",
     "collapsed": false,
     "input": [
      "treepredict.classify([5, 'red'], tree)"
     ],
     "language": "python",
     "metadata": {},
     "outputs": [
      {
       "output_type": "pyout",
       "prompt_number": 15,
       "text": [
        "{'apple': 3}"
       ]
      }
     ],
     "prompt_number": 15
    },
    {
     "cell_type": "code",
     "collapsed": false,
     "input": [
      "treepredict.classify([1, 'green'], tree)"
     ],
     "language": "python",
     "metadata": {},
     "outputs": [
      {
       "output_type": "pyout",
       "prompt_number": 16,
       "text": [
        "{'grape': 1}"
       ]
      }
     ],
     "prompt_number": 16
    }
   ],
   "metadata": {}
  }
 ]
}